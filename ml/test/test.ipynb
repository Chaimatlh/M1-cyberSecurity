{
 "cells": [
  {
   "cell_type": "markdown",
   "id": "993da7d2",
   "metadata": {},
   "source": [
    "# test 1 By Chaima Talhi \n",
    "\n",
    "## TEST #1 — Machine Learning for Cyber security\n",
    "\n",
    "### Partie 1: Régression Linéaire et Polynomiale"
   ]
  },
  {
   "cell_type": "markdown",
   "id": "74de1bd2",
   "metadata": {},
   "source": [
    "### Questions:\n",
    "### 1. Prétraitement des données:"
   ]
  },
  {
   "cell_type": "markdown",
   "id": "65239d1c",
   "metadata": {},
   "source": [
    "### Charger le dataset et effectuer un nettoyage initial (traitement des valeurs manquantes,\n",
    "### normalisation des caractéristiques, etc.).\n",
    "### Sélectionner une caractéristique pertinente (par exemple, la médiane du revenu) et la médiane des\n",
    "### prix des maisons comme cible pour la régression linéaire simple."
   ]
  },
  {
   "cell_type": "code",
   "execution_count": 12,
   "id": "e5830bc9",
   "metadata": {},
   "outputs": [
    {
     "name": "stdout",
     "output_type": "stream",
     "text": [
      "   MedInc  HouseAge  AveRooms  AveBedrms  Population  AveOccup  Latitude  \\\n",
      "0  8.3252      41.0  6.984127   1.023810       322.0  2.555556     37.88   \n",
      "1  8.3014      21.0  6.238137   0.971880      2401.0  2.109842     37.86   \n",
      "2  7.2574      52.0  8.288136   1.073446       496.0  2.802260     37.85   \n",
      "3  5.6431      52.0  5.817352   1.073059       558.0  2.547945     37.85   \n",
      "4  3.8462      52.0  6.281853   1.081081       565.0  2.181467     37.85   \n",
      "\n",
      "   Longitude  MedianHouseValue  \n",
      "0    -122.23             4.526  \n",
      "1    -122.22             3.585  \n",
      "2    -122.24             3.521  \n",
      "3    -122.25             3.413  \n",
      "4    -122.25             3.422  \n"
     ]
    }
   ],
   "source": [
    "# import libreries \n",
    "\n",
    "import pandas as pd\n",
    "from sklearn.preprocessing import StandardScaler\n",
    "\n",
    "# chargement du datatset\n",
    "\n",
    "data = pd.read_csv('california_housing.csv')\n",
    "\n",
    "#print the header of the data set\n",
    "\n",
    "print(data.head())"
   ]
  },
  {
   "cell_type": "code",
   "execution_count": 5,
   "id": "19ad18f9",
   "metadata": {},
   "outputs": [
    {
     "name": "stdout",
     "output_type": "stream",
     "text": [
      "   MedInc  HouseAge  AveRooms  AveBedrms  Population  AveOccup  Latitude  \\\n",
      "0  8.3252      41.0  6.984127   1.023810       322.0  2.555556     37.88   \n",
      "1  8.3014      21.0  6.238137   0.971880      2401.0  2.109842     37.86   \n",
      "2  7.2574      52.0  8.288136   1.073446       496.0  2.802260     37.85   \n",
      "3  5.6431      52.0  5.817352   1.073059       558.0  2.547945     37.85   \n",
      "4  3.8462      52.0  6.281853   1.081081       565.0  2.181467     37.85   \n",
      "\n",
      "   Longitude  MedianHouseValue  \n",
      "0    -122.23             4.526  \n",
      "1    -122.22             3.585  \n",
      "2    -122.24             3.521  \n",
      "3    -122.25             3.413  \n",
      "4    -122.25             3.422  \n"
     ]
    }
   ],
   "source": [
    "# supprimer les lignes avec les valeurs manquantes \n",
    "data = data.dropna()\n"
   ]
  },
  {
   "cell_type": "code",
   "execution_count": 9,
   "id": "d1cd4e7f",
   "metadata": {},
   "outputs": [],
   "source": [
    "# Sélectionner les caractéristiques pertinentes et le target \n",
    "features = data[['MedInc']]\n",
    "target = data['MedianHouseValue']\n",
    "\n",
    "# Normalisation des caractéristiques qui donnez a vous \n",
    "sclr = StandardScaler()\n",
    "features = scaler.fit_transform(features)"
   ]
  },
  {
   "cell_type": "markdown",
   "id": "8f16178c",
   "metadata": {},
   "source": [
    "### Régression linéaire simple:\n",
    "### Effectuer une régression linéaire simple avec la caractéristique sélectionnée. Évaluer les\n",
    "### performances du modèle en utilisant le R² et RMSE (Root Mean Square Error)."
   ]
  },
  {
   "cell_type": "code",
   "execution_count": 16,
   "id": "111fbfd4",
   "metadata": {},
   "outputs": [
    {
     "name": "stdout",
     "output_type": "stream",
     "text": [
      "affichage pour une regression linéaire simple :\n",
      "pour le R2  Score : 0.4564966485656322\n",
      "pour le mean  : 0.8512453624841145\n"
     ]
    }
   ],
   "source": [
    "# import libreries \n",
    "import pandas as pd\n",
    "from sklearn.model_selection import train_test_split\n",
    "from sklearn.linear_model import LinearRegression\n",
    "from sklearn.metrics import r2_score, mean_squared_error\n",
    "from sklearn.preprocessing import StandardScaler\n",
    "\n",
    "# Séparation des données en ensembles d'entraînement et de test on utilise 30% pour le test 70% pour entr \n",
    "X_train, X_test, y_train, y_test = train_test_split(features, target, test_size=0.3, random_state=0)\n",
    "\n",
    "# Créer une  modèle de régression linéaire smpl\n",
    "model = LinearRegression()\n",
    "model.fit(X_train, y_train)\n",
    "\n",
    "# on Fair des prédictions sur l'ensemble de test pour avoire une estimation sur ce model \n",
    "y_pred = model.predict(X_test)\n",
    "\n",
    "# Évaluation desperformances du modèle\n",
    "r2_scr = r2_score(y_test, y_pred)\n",
    "average = mean_squared_error(y_test, y_pred, squared=False)\n",
    "\n",
    "# l'affichage \n",
    "print(\"affichage pour une regression linéaire simple :\")\n",
    "\n",
    "print(\"pour le R2  Score :\", r2_scr)\n",
    "\n",
    "print(\"pour le mean  :\", average)"
   ]
  },
  {
   "cell_type": "markdown",
   "id": "1f74d1a6",
   "metadata": {},
   "source": [
    "### Régression linéaire multiple:\n",
    "### Ajouter plus de caractéristiques pour créer un modèle de régression linéaire multiple. Comparer\n",
    "### les performances avec le modèle de régression linéaire simple."
   ]
  },
  {
   "cell_type": "code",
   "execution_count": 18,
   "id": "3858922b",
   "metadata": {},
   "outputs": [
    {
     "name": "stdout",
     "output_type": "stream",
     "text": [
      "affichage pour une regression  multiple :\n",
      "pour le R2  Score : 0.4980196421223845\n",
      "pour le mean  : 0.8110484374335526\n"
     ]
    }
   ],
   "source": [
    "# pour ca en ajoute \n",
    "# ca des x ou bien des inputes \n",
    "features = data[['MedInc', 'HouseAge', 'AveRooms', 'Population']]\n",
    "# ca le cible le y ou bien le output \n",
    "target = data['MedianHouseValue']\n",
    "\n",
    "# Normalisation des caractéristiques et on repite les memes etapes \n",
    "sclr = StandardScaler()\n",
    "features = scaler.fit_transform(features)\n",
    "\n",
    "# Séparation des données \n",
    "X_train, X_test, y_train, y_test = train_test_split(features, target, test_size=0.2, random_state=42)\n",
    "\n",
    "# Créer \n",
    "model = LinearRegression()\n",
    "model.fit(X_train, y_train)\n",
    "\n",
    "# Faire des prédictions \n",
    "y_pred = model.predict(X_test)\n",
    "\n",
    "# Évaluer les performances du modèle\n",
    "r2_scr = r2_score(y_test, y_pred)\n",
    "average = mean_squared_error(y_test, y_pred, squared=False)\n",
    "\n",
    "print(\"affichage pour une regression  multiple :\")\n",
    "print(\"pour le R2  Score :\", r2_scr)\n",
    "print(\"pour le mean  :\", average)"
   ]
  },
  {
   "cell_type": "markdown",
   "id": "3dfaf338",
   "metadata": {},
   "source": [
    "### Régression polynomiale:\n",
    "### Transformer les caractéristiques pour créer un modèle de régression polynomiale (degré 2 ou 3).\n",
    "### Évaluer et comparer les performances avec les modèles linéaires."
   ]
  },
  {
   "cell_type": "code",
   "execution_count": 23,
   "id": "dc8e91d4",
   "metadata": {},
   "outputs": [
    {
     "name": "stdout",
     "output_type": "stream",
     "text": [
      "reg poly de  (degré 3) :\n",
      "pour le score du R2 : 0.4980196421223845\n",
      "pour le mean : 0.8110484374335526\n"
     ]
    }
   ],
   "source": [
    "# importer liberary of the poly reg and the pipeline \n",
    "\n",
    "from sklearn.preprocessing import PolynomialFeatures\n",
    "from sklearn.pipeline import make_pipeline\n",
    "\n",
    "# on va creer un pipline  pour la rgr poly \n",
    "\n",
    "pip = make_pipeline(PolynomialFeatures(degree=3), LinearRegression())\n",
    "pip.fit(X_train, y_train) # fit the model \n",
    "_pred = pip.predict(X_test) # predection of the y hat \n",
    "\n",
    "r2_scrr = r2_score(y_test, y_pred)\n",
    "average = mean_squared_error(y_test, y_pred, squared=False)\n",
    "\n",
    "print(\"reg poly de  (degré 3) :\")\n",
    "print(\"pour le score du R2 :\", r2_scrr)\n",
    "print(\"pour le mean :\", average)\n"
   ]
  },
  {
   "cell_type": "markdown",
   "id": "b1ab4bd4",
   "metadata": {},
   "source": [
    "### Partie 2: Régression Logistique\n",
    "### Questions:\n",
    "\n",
    "### Préparation des données pour la classification:\n"
   ]
  },
  {
   "cell_type": "markdown",
   "id": "f0b4e7c3",
   "metadata": {},
   "source": [
    "### Créer une nouvelle variable cible binaire indiquant si le prix d'une maison est \"élevé\" ou \"bas\" basé\n",
    "### sur un seuil prédéfini.\n",
    "### Sélectionner des caractéristiques pertinentes pour la tâche de classification."
   ]
  },
  {
   "cell_type": "code",
   "execution_count": 35,
   "id": "aae7fefe",
   "metadata": {},
   "outputs": [
    {
     "name": "stdout",
     "output_type": "stream",
     "text": [
      "0        high\n",
      "1        high\n",
      "2        high\n",
      "3        high\n",
      "4        high\n",
      "         ... \n",
      "20635    high\n",
      "20636    high\n",
      "20637    high\n",
      "20638    high\n",
      "20639    high\n",
      "Name: prix_dune_maison, Length: 20640, dtype: object\n"
     ]
    }
   ],
   "source": [
    "# import libereries \n",
    "import pandas as pd\n",
    "from sklearn.model_selection import train_test_split\n",
    "from sklearn.linear_model import LogisticRegression\n",
    "# creation du variables cile \n",
    "threshold = 0.7\n",
    "data['prix_dune_maison'] = data['MedianHouseValue'].apply(lambda x: 'high' if x > threshold else 'low') # cest la discion boundry on suppose z = 0\n",
    "print(data['prix_dune_maison'])\n",
    "\n",
    "# Sélectionner des caractéristiques pertinentes pour la tâche de classification.\n",
    "features = data[['MedInc', 'HouseAge', 'AveRooms', 'Population']]\n",
    "\n"
   ]
  },
  {
   "cell_type": "code",
   "execution_count": 37,
   "id": "94e62151",
   "metadata": {},
   "outputs": [
    {
     "name": "stdout",
     "output_type": "stream",
     "text": [
      "0        1\n",
      "1        1\n",
      "2        1\n",
      "3        1\n",
      "4        1\n",
      "        ..\n",
      "20635    1\n",
      "20636    1\n",
      "20637    1\n",
      "20638    1\n",
      "20639    1\n",
      "Name: prix_dune_maison, Length: 20640, dtype: int64\n"
     ]
    }
   ],
   "source": [
    "# pour l'affichage binaire \n",
    "\n",
    "data['prix_dune_maison'] = data['MedianHouseValue'].apply(lambda x: 1 if x > threshold else 0) # cest la discion boundry on suppose z = 0\n",
    "print(data['prix_dune_maison'])\n"
   ]
  },
  {
   "cell_type": "markdown",
   "id": "8dac02ab",
   "metadata": {},
   "source": [
    "### Modélisation et évaluation:\n",
    "### Construire un modèle de régression logistique. Utiliser la validation croisée pour évaluer la\n",
    "### précision, le rappel, et le score F1 du modèle."
   ]
  },
  {
   "cell_type": "code",
   "execution_count": 25,
   "id": "ede24705",
   "metadata": {},
   "outputs": [
    {
     "name": "stderr",
     "output_type": "stream",
     "text": [
      "/home/shym/anaconda3/lib/python3.11/site-packages/sklearn/linear_model/_logistic.py:460: ConvergenceWarning: lbfgs failed to converge (status=1):\n",
      "STOP: TOTAL NO. of ITERATIONS REACHED LIMIT.\n",
      "\n",
      "Increase the number of iterations (max_iter) or scale the data as shown in:\n",
      "    https://scikit-learn.org/stable/modules/preprocessing.html\n",
      "Please also refer to the documentation for alternative solver options:\n",
      "    https://scikit-learn.org/stable/modules/linear_model.html#logistic-regression\n",
      "  n_iter_i = _check_optimize_result(\n",
      "/home/shym/anaconda3/lib/python3.11/site-packages/sklearn/linear_model/_logistic.py:460: ConvergenceWarning: lbfgs failed to converge (status=1):\n",
      "STOP: TOTAL NO. of ITERATIONS REACHED LIMIT.\n",
      "\n",
      "Increase the number of iterations (max_iter) or scale the data as shown in:\n",
      "    https://scikit-learn.org/stable/modules/preprocessing.html\n",
      "Please also refer to the documentation for alternative solver options:\n",
      "    https://scikit-learn.org/stable/modules/linear_model.html#logistic-regression\n",
      "  n_iter_i = _check_optimize_result(\n",
      "/home/shym/anaconda3/lib/python3.11/site-packages/sklearn/linear_model/_logistic.py:460: ConvergenceWarning: lbfgs failed to converge (status=1):\n",
      "STOP: TOTAL NO. of ITERATIONS REACHED LIMIT.\n",
      "\n",
      "Increase the number of iterations (max_iter) or scale the data as shown in:\n",
      "    https://scikit-learn.org/stable/modules/preprocessing.html\n",
      "Please also refer to the documentation for alternative solver options:\n",
      "    https://scikit-learn.org/stable/modules/linear_model.html#logistic-regression\n",
      "  n_iter_i = _check_optimize_result(\n",
      "/home/shym/anaconda3/lib/python3.11/site-packages/sklearn/linear_model/_logistic.py:460: ConvergenceWarning: lbfgs failed to converge (status=1):\n",
      "STOP: TOTAL NO. of ITERATIONS REACHED LIMIT.\n",
      "\n",
      "Increase the number of iterations (max_iter) or scale the data as shown in:\n",
      "    https://scikit-learn.org/stable/modules/preprocessing.html\n",
      "Please also refer to the documentation for alternative solver options:\n",
      "    https://scikit-learn.org/stable/modules/linear_model.html#logistic-regression\n",
      "  n_iter_i = _check_optimize_result(\n",
      "/home/shym/anaconda3/lib/python3.11/site-packages/sklearn/linear_model/_logistic.py:460: ConvergenceWarning: lbfgs failed to converge (status=1):\n",
      "STOP: TOTAL NO. of ITERATIONS REACHED LIMIT.\n",
      "\n",
      "Increase the number of iterations (max_iter) or scale the data as shown in:\n",
      "    https://scikit-learn.org/stable/modules/preprocessing.html\n",
      "Please also refer to the documentation for alternative solver options:\n",
      "    https://scikit-learn.org/stable/modules/linear_model.html#logistic-regression\n",
      "  n_iter_i = _check_optimize_result(\n",
      "/home/shym/anaconda3/lib/python3.11/site-packages/sklearn/linear_model/_logistic.py:460: ConvergenceWarning: lbfgs failed to converge (status=1):\n",
      "STOP: TOTAL NO. of ITERATIONS REACHED LIMIT.\n",
      "\n",
      "Increase the number of iterations (max_iter) or scale the data as shown in:\n",
      "    https://scikit-learn.org/stable/modules/preprocessing.html\n",
      "Please also refer to the documentation for alternative solver options:\n",
      "    https://scikit-learn.org/stable/modules/linear_model.html#logistic-regression\n",
      "  n_iter_i = _check_optimize_result(\n"
     ]
    },
    {
     "name": "stdout",
     "output_type": "stream",
     "text": [
      "Accuracy: 0.9236434108527132\n"
     ]
    },
    {
     "name": "stderr",
     "output_type": "stream",
     "text": [
      "/home/shym/anaconda3/lib/python3.11/site-packages/sklearn/linear_model/_logistic.py:460: ConvergenceWarning: lbfgs failed to converge (status=1):\n",
      "STOP: TOTAL NO. of ITERATIONS REACHED LIMIT.\n",
      "\n",
      "Increase the number of iterations (max_iter) or scale the data as shown in:\n",
      "    https://scikit-learn.org/stable/modules/preprocessing.html\n",
      "Please also refer to the documentation for alternative solver options:\n",
      "    https://scikit-learn.org/stable/modules/linear_model.html#logistic-regression\n",
      "  n_iter_i = _check_optimize_result(\n",
      "/home/shym/anaconda3/lib/python3.11/site-packages/sklearn/linear_model/_logistic.py:460: ConvergenceWarning: lbfgs failed to converge (status=1):\n",
      "STOP: TOTAL NO. of ITERATIONS REACHED LIMIT.\n",
      "\n",
      "Increase the number of iterations (max_iter) or scale the data as shown in:\n",
      "    https://scikit-learn.org/stable/modules/preprocessing.html\n",
      "Please also refer to the documentation for alternative solver options:\n",
      "    https://scikit-learn.org/stable/modules/linear_model.html#logistic-regression\n",
      "  n_iter_i = _check_optimize_result(\n",
      "/home/shym/anaconda3/lib/python3.11/site-packages/sklearn/linear_model/_logistic.py:460: ConvergenceWarning: lbfgs failed to converge (status=1):\n",
      "STOP: TOTAL NO. of ITERATIONS REACHED LIMIT.\n",
      "\n",
      "Increase the number of iterations (max_iter) or scale the data as shown in:\n",
      "    https://scikit-learn.org/stable/modules/preprocessing.html\n",
      "Please also refer to the documentation for alternative solver options:\n",
      "    https://scikit-learn.org/stable/modules/linear_model.html#logistic-regression\n",
      "  n_iter_i = _check_optimize_result(\n",
      "/home/shym/anaconda3/lib/python3.11/site-packages/sklearn/linear_model/_logistic.py:460: ConvergenceWarning: lbfgs failed to converge (status=1):\n",
      "STOP: TOTAL NO. of ITERATIONS REACHED LIMIT.\n",
      "\n",
      "Increase the number of iterations (max_iter) or scale the data as shown in:\n",
      "    https://scikit-learn.org/stable/modules/preprocessing.html\n",
      "Please also refer to the documentation for alternative solver options:\n",
      "    https://scikit-learn.org/stable/modules/linear_model.html#logistic-regression\n",
      "  n_iter_i = _check_optimize_result(\n",
      "/home/shym/anaconda3/lib/python3.11/site-packages/sklearn/linear_model/_logistic.py:460: ConvergenceWarning: lbfgs failed to converge (status=1):\n",
      "STOP: TOTAL NO. of ITERATIONS REACHED LIMIT.\n",
      "\n",
      "Increase the number of iterations (max_iter) or scale the data as shown in:\n",
      "    https://scikit-learn.org/stable/modules/preprocessing.html\n",
      "Please also refer to the documentation for alternative solver options:\n",
      "    https://scikit-learn.org/stable/modules/linear_model.html#logistic-regression\n",
      "  n_iter_i = _check_optimize_result(\n",
      "/home/shym/anaconda3/lib/python3.11/site-packages/sklearn/linear_model/_logistic.py:460: ConvergenceWarning: lbfgs failed to converge (status=1):\n",
      "STOP: TOTAL NO. of ITERATIONS REACHED LIMIT.\n",
      "\n",
      "Increase the number of iterations (max_iter) or scale the data as shown in:\n",
      "    https://scikit-learn.org/stable/modules/preprocessing.html\n",
      "Please also refer to the documentation for alternative solver options:\n",
      "    https://scikit-learn.org/stable/modules/linear_model.html#logistic-regression\n",
      "  n_iter_i = _check_optimize_result(\n",
      "/home/shym/anaconda3/lib/python3.11/site-packages/sklearn/linear_model/_logistic.py:460: ConvergenceWarning: lbfgs failed to converge (status=1):\n",
      "STOP: TOTAL NO. of ITERATIONS REACHED LIMIT.\n",
      "\n",
      "Increase the number of iterations (max_iter) or scale the data as shown in:\n",
      "    https://scikit-learn.org/stable/modules/preprocessing.html\n",
      "Please also refer to the documentation for alternative solver options:\n",
      "    https://scikit-learn.org/stable/modules/linear_model.html#logistic-regression\n",
      "  n_iter_i = _check_optimize_result(\n",
      "/home/shym/anaconda3/lib/python3.11/site-packages/sklearn/linear_model/_logistic.py:460: ConvergenceWarning: lbfgs failed to converge (status=1):\n",
      "STOP: TOTAL NO. of ITERATIONS REACHED LIMIT.\n",
      "\n",
      "Increase the number of iterations (max_iter) or scale the data as shown in:\n",
      "    https://scikit-learn.org/stable/modules/preprocessing.html\n",
      "Please also refer to the documentation for alternative solver options:\n",
      "    https://scikit-learn.org/stable/modules/linear_model.html#logistic-regression\n",
      "  n_iter_i = _check_optimize_result(\n",
      "/home/shym/anaconda3/lib/python3.11/site-packages/sklearn/linear_model/_logistic.py:460: ConvergenceWarning: lbfgs failed to converge (status=1):\n",
      "STOP: TOTAL NO. of ITERATIONS REACHED LIMIT.\n",
      "\n",
      "Increase the number of iterations (max_iter) or scale the data as shown in:\n",
      "    https://scikit-learn.org/stable/modules/preprocessing.html\n",
      "Please also refer to the documentation for alternative solver options:\n",
      "    https://scikit-learn.org/stable/modules/linear_model.html#logistic-regression\n",
      "  n_iter_i = _check_optimize_result(\n",
      "/home/shym/anaconda3/lib/python3.11/site-packages/sklearn/linear_model/_logistic.py:460: ConvergenceWarning: lbfgs failed to converge (status=1):\n",
      "STOP: TOTAL NO. of ITERATIONS REACHED LIMIT.\n",
      "\n",
      "Increase the number of iterations (max_iter) or scale the data as shown in:\n",
      "    https://scikit-learn.org/stable/modules/preprocessing.html\n",
      "Please also refer to the documentation for alternative solver options:\n",
      "    https://scikit-learn.org/stable/modules/linear_model.html#logistic-regression\n",
      "  n_iter_i = _check_optimize_result(\n",
      "/home/shym/anaconda3/lib/python3.11/site-packages/sklearn/linear_model/_logistic.py:460: ConvergenceWarning: lbfgs failed to converge (status=1):\n",
      "STOP: TOTAL NO. of ITERATIONS REACHED LIMIT.\n",
      "\n",
      "Increase the number of iterations (max_iter) or scale the data as shown in:\n",
      "    https://scikit-learn.org/stable/modules/preprocessing.html\n",
      "Please also refer to the documentation for alternative solver options:\n",
      "    https://scikit-learn.org/stable/modules/linear_model.html#logistic-regression\n",
      "  n_iter_i = _check_optimize_result(\n",
      "/home/shym/anaconda3/lib/python3.11/site-packages/sklearn/linear_model/_logistic.py:460: ConvergenceWarning: lbfgs failed to converge (status=1):\n",
      "STOP: TOTAL NO. of ITERATIONS REACHED LIMIT.\n",
      "\n",
      "Increase the number of iterations (max_iter) or scale the data as shown in:\n",
      "    https://scikit-learn.org/stable/modules/preprocessing.html\n",
      "Please also refer to the documentation for alternative solver options:\n",
      "    https://scikit-learn.org/stable/modules/linear_model.html#logistic-regression\n",
      "  n_iter_i = _check_optimize_result(\n",
      "/home/shym/anaconda3/lib/python3.11/site-packages/sklearn/linear_model/_logistic.py:460: ConvergenceWarning: lbfgs failed to converge (status=1):\n",
      "STOP: TOTAL NO. of ITERATIONS REACHED LIMIT.\n",
      "\n",
      "Increase the number of iterations (max_iter) or scale the data as shown in:\n",
      "    https://scikit-learn.org/stable/modules/preprocessing.html\n",
      "Please also refer to the documentation for alternative solver options:\n",
      "    https://scikit-learn.org/stable/modules/linear_model.html#logistic-regression\n",
      "  n_iter_i = _check_optimize_result(\n"
     ]
    },
    {
     "name": "stdout",
     "output_type": "stream",
     "text": [
      "Precision: 0.7973379668485723\n",
      "Recall: 0.5215027766234748\n",
      "F1 Score: 0.6253906883962066\n"
     ]
    },
    {
     "name": "stderr",
     "output_type": "stream",
     "text": [
      "/home/shym/anaconda3/lib/python3.11/site-packages/sklearn/linear_model/_logistic.py:460: ConvergenceWarning: lbfgs failed to converge (status=1):\n",
      "STOP: TOTAL NO. of ITERATIONS REACHED LIMIT.\n",
      "\n",
      "Increase the number of iterations (max_iter) or scale the data as shown in:\n",
      "    https://scikit-learn.org/stable/modules/preprocessing.html\n",
      "Please also refer to the documentation for alternative solver options:\n",
      "    https://scikit-learn.org/stable/modules/linear_model.html#logistic-regression\n",
      "  n_iter_i = _check_optimize_result(\n"
     ]
    }
   ],
   "source": [
    "import pandas as pd\n",
    "import numpy as np\n",
    "from sklearn.model_selection import cross_val_score\n",
    "from sklearn.linear_model import LogisticRegression\n",
    "from sklearn.metrics import precision_score, recall_score, f1_score\n",
    "\n",
    "# Load the dataset\n",
    "data = pd.read_csv('/home/shym/Desktop/chaimas2/ml/TALHI-CHAIMA-CS-M1/test/california_housing.csv')\n",
    "\n",
    "# Select the features and target variable\n",
    "\n",
    "X = data.drop('MedianHouseValue', axis=1)\n",
    "y = np.where(data['MedianHouseValue'] > 3.5, 1, 0)  #classification binaire \n",
    "\n",
    "# creer logistic reg\n",
    "model = LogisticRegression()\n",
    "\n",
    "# cross validation \n",
    "scoring = 'accuracy'\n",
    "scores = cross_val_score(model, X, y, cv=5, scoring=scoring)\n",
    "\n",
    "# affichage \n",
    "print(\"Accuracy:\", scores.mean())\n",
    "\n",
    "# Calculer precision, recall, and F1 score\n",
    "precision = cross_val_score(model, X, y, cv=5, scoring='precision')\n",
    "recall = cross_val_score(model, X, y, cv=5, scoring='recall')\n",
    "f1 = cross_val_score(model, X, y, cv=5, scoring='f1')\n",
    "\n",
    "# affichage\n",
    "print(\"Precision:\", precision.mean())\n",
    "print(\"Recall:\", recall.mean())\n",
    "print(\"F1 Score:\", f1.mean())"
   ]
  },
  {
   "cell_type": "markdown",
   "id": "6e975f86",
   "metadata": {},
   "source": [
    "### nterprétation et visualisation du modèle:\n",
    "### Visualiser la courbe ROC et calculer l'aire sous la courbe (AUC)."
   ]
  },
  {
   "cell_type": "code",
   "execution_count": 27,
   "id": "5b599100",
   "metadata": {},
   "outputs": [
    {
     "name": "stderr",
     "output_type": "stream",
     "text": [
      "/home/shym/anaconda3/lib/python3.11/site-packages/sklearn/linear_model/_logistic.py:460: ConvergenceWarning: lbfgs failed to converge (status=1):\n",
      "STOP: TOTAL NO. of ITERATIONS REACHED LIMIT.\n",
      "\n",
      "Increase the number of iterations (max_iter) or scale the data as shown in:\n",
      "    https://scikit-learn.org/stable/modules/preprocessing.html\n",
      "Please also refer to the documentation for alternative solver options:\n",
      "    https://scikit-learn.org/stable/modules/linear_model.html#logistic-regression\n",
      "  n_iter_i = _check_optimize_result(\n",
      "/home/shym/anaconda3/lib/python3.11/site-packages/sklearn/linear_model/_logistic.py:460: ConvergenceWarning: lbfgs failed to converge (status=1):\n",
      "STOP: TOTAL NO. of ITERATIONS REACHED LIMIT.\n",
      "\n",
      "Increase the number of iterations (max_iter) or scale the data as shown in:\n",
      "    https://scikit-learn.org/stable/modules/preprocessing.html\n",
      "Please also refer to the documentation for alternative solver options:\n",
      "    https://scikit-learn.org/stable/modules/linear_model.html#logistic-regression\n",
      "  n_iter_i = _check_optimize_result(\n",
      "/home/shym/anaconda3/lib/python3.11/site-packages/sklearn/linear_model/_logistic.py:460: ConvergenceWarning: lbfgs failed to converge (status=1):\n",
      "STOP: TOTAL NO. of ITERATIONS REACHED LIMIT.\n",
      "\n",
      "Increase the number of iterations (max_iter) or scale the data as shown in:\n",
      "    https://scikit-learn.org/stable/modules/preprocessing.html\n",
      "Please also refer to the documentation for alternative solver options:\n",
      "    https://scikit-learn.org/stable/modules/linear_model.html#logistic-regression\n",
      "  n_iter_i = _check_optimize_result(\n",
      "/home/shym/anaconda3/lib/python3.11/site-packages/sklearn/linear_model/_logistic.py:460: ConvergenceWarning: lbfgs failed to converge (status=1):\n",
      "STOP: TOTAL NO. of ITERATIONS REACHED LIMIT.\n",
      "\n",
      "Increase the number of iterations (max_iter) or scale the data as shown in:\n",
      "    https://scikit-learn.org/stable/modules/preprocessing.html\n",
      "Please also refer to the documentation for alternative solver options:\n",
      "    https://scikit-learn.org/stable/modules/linear_model.html#logistic-regression\n",
      "  n_iter_i = _check_optimize_result(\n",
      "/home/shym/anaconda3/lib/python3.11/site-packages/sklearn/linear_model/_logistic.py:460: ConvergenceWarning: lbfgs failed to converge (status=1):\n",
      "STOP: TOTAL NO. of ITERATIONS REACHED LIMIT.\n",
      "\n",
      "Increase the number of iterations (max_iter) or scale the data as shown in:\n",
      "    https://scikit-learn.org/stable/modules/preprocessing.html\n",
      "Please also refer to the documentation for alternative solver options:\n",
      "    https://scikit-learn.org/stable/modules/linear_model.html#logistic-regression\n",
      "  n_iter_i = _check_optimize_result(\n"
     ]
    },
    {
     "data": {
      "image/png": "[encoded data removed]",
      "text/plain": [
       "<Figure size 640x480 with 1 Axes>"
      ]
     },
     "metadata": {},
     "output_type": "display_data"
    },
    {
     "name": "stdout",
     "output_type": "stream",
     "text": [
      "AUC: 0.9186915370565119\n"
     ]
    }
   ],
   "source": [
    "import pandas as pd\n",
    "import numpy as np\n",
    "import matplotlib.pyplot as plt\n",
    "from sklearn.model_selection import cross_val_predict\n",
    "from sklearn.linear_model import LogisticRegression\n",
    "from sklearn.metrics import roc_curve, auc\n",
    "\n",
    "\n",
    "# Perform cross-validation and get predicted probabilities\n",
    "y_pred_probs = cross_val_predict(model, X, y, cv=5, method='predict_proba')[:, 1]\n",
    "\n",
    "# Calculate the false positive rate, true positive rate, and thresholds\n",
    "fpr, tpr, thresholds = roc_curve(y, y_pred_probs)\n",
    "\n",
    "# Calculate the AUC\n",
    "roc_auc = auc(fpr, tpr)\n",
    "\n",
    "# Plot the ROC curve\n",
    "plt.plot(fpr, tpr, label='ROC curve (AUC = %0.2f)' % roc_auc)\n",
    "plt.plot([0, 1], [0, 1], 'k--')  # Plotting the random guess line\n",
    "plt.xlabel('False Positive Rate')\n",
    "plt.ylabel('True Positive Rate')\n",
    "plt.title('Receiver Operating Characteristic')\n",
    "plt.legend(loc='lower right')\n",
    "plt.show()\n",
    "\n",
    "# Print the AUC value\n",
    "print(\"AUC:\", roc_auc)\n"
   ]
  },
  {
   "cell_type": "code",
   "execution_count": null,
   "id": "82d1148e",
   "metadata": {},
   "outputs": [],
   "source": []
  }
 ],
 "metadata": {
  "kernelspec": {
   "display_name": "Python 3 (ipykernel)",
   "language": "python",
   "name": "python3"
  },
  "language_info": {
   "codemirror_mode": {
    "name": "ipython",
    "version": 3
   },
   "file_extension": ".py",
   "mimetype": "text/x-python",
   "name": "python",
   "nbconvert_exporter": "python",
   "pygments_lexer": "ipython3",
   "version": "3.11.5"
  }
 },
 "nbformat": 4,
 "nbformat_minor": 5
}
